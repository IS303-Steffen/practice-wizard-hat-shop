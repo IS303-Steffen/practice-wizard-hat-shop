{
 "cells": [
  {
   "cell_type": "markdown",
   "metadata": {},
   "source": [
    "### Lists (Create & Access)"
   ]
  },
  {
   "cell_type": "code",
   "execution_count": 2,
   "metadata": {},
   "outputs": [
    {
     "name": "stdout",
     "output_type": "stream",
     "text": [
      "Cedar\n",
      "Oud\n",
      "['Cedar', 'Amber']\n"
     ]
    }
   ],
   "source": [
    "# Create\n",
    "fragrances = [\"Cedar\", \"Amber\", \"Oud\"]\n",
    "\n",
    "# Indexing\n",
    "print(fragrances[0])     # first item\n",
    "print(fragrances[-1])    # last item\n",
    "\n",
    "# Slicing\n",
    "print(fragrances[0:2])   # ['Cedar', 'Amber']"
   ]
  },
  {
   "cell_type": "markdown",
   "metadata": {},
   "source": [
    "### Lists (Modify)"
   ]
  },
  {
   "cell_type": "code",
   "execution_count": 3,
   "metadata": {},
   "outputs": [
    {
     "name": "stdout",
     "output_type": "stream",
     "text": [
      "['Cedar', 'Citrus', 'Amber', 'Oud', 'Musk']\n",
      "['Cedar', 'Citrus', 'Oud'] Musk\n",
      "['Sandalwood', 'Citrus', 'Oud']\n",
      "3\n",
      "['Sandalwood', 'Citrus', 'Oud', 'Tabacco', 'Vanilla']\n"
     ]
    }
   ],
   "source": [
    "fragrances = [\"Cedar\", \"Amber\", \"Oud\"]\n",
    "\n",
    "fragrances.append(\"Musk\")     # add to end\n",
    "fragrances.insert(1, \"Citrus\") # add at index\n",
    "print(fragrances)\n",
    "\n",
    "fragrances.remove(\"Amber\")     # remove first match\n",
    "removed = fragrances.pop()     # remove last and return it\n",
    "print(fragrances, removed)\n",
    "\n",
    "fragrances[0] = \"Sandalwood\"   # update by index\n",
    "print(fragrances)\n",
    "\n",
    "print(len(fragrances))         # length\n",
    "\n",
    "fragrances_2 = [\"Tabacco\", \"Vanilla\"]\n",
    "fragrances.extend(fragrances_2) # add another list to your list\n",
    "print(fragrances)"
   ]
  },
  {
   "cell_type": "markdown",
   "metadata": {},
   "source": [
    "### Lists (Sort & Reverse)"
   ]
  },
  {
   "cell_type": "code",
   "execution_count": 4,
   "metadata": {},
   "outputs": [
    {
     "name": "stdout",
     "output_type": "stream",
     "text": [
      "[1, 2, 5, 9]\n",
      "[9, 5, 2, 1]\n"
     ]
    }
   ],
   "source": [
    "numbers = [5, 2, 9, 1]\n",
    "numbers.sort()     # in-place ascending\n",
    "print(numbers)\n",
    "numbers.reverse()  # in-place reverse\n",
    "print(numbers)\n",
    "# sorted(numbers) returns a new sorted list (not in-place)"
   ]
  },
  {
   "cell_type": "markdown",
   "metadata": {},
   "source": [
    "### Lists (Math helpers: sum, min, max)"
   ]
  },
  {
   "cell_type": "code",
   "execution_count": 5,
   "metadata": {},
   "outputs": [
    {
     "name": "stdout",
     "output_type": "stream",
     "text": [
      "295.74\n",
      "75.25\n",
      "120.5\n"
     ]
    }
   ],
   "source": [
    "sales = [120.50, 99.99, 75.25]\n",
    "print(sum(sales))\n",
    "print(min(sales))\n",
    "print(max(sales))"
   ]
  },
  {
   "cell_type": "markdown",
   "metadata": {},
   "source": [
    "### Nested Lists (Access & Unpacking)"
   ]
  },
  {
   "cell_type": "code",
   "execution_count": 6,
   "metadata": {},
   "outputs": [
    {
     "name": "stdout",
     "output_type": "stream",
     "text": [
      "B\n",
      "X 10\n",
      "C 3\n"
     ]
    }
   ],
   "source": [
    "nested = [[\"A\", 1], [\"B\", 2], [\"C\", 3]]\n",
    "print(nested[1][0])  # 'B'\n",
    "\n",
    "# Unpacking a pair\n",
    "label, value = [\"X\", 10]\n",
    "print(label, value)\n",
    "\n",
    "# Unpacking from a nested element\n",
    "letter, number = nested[2]\n",
    "print(letter, number)"
   ]
  },
  {
   "cell_type": "markdown",
   "metadata": {},
   "source": [
    "### Mix Lists & Dictionaries (Dictionary with list values)"
   ]
  },
  {
   "cell_type": "code",
   "execution_count": 7,
   "metadata": {},
   "outputs": [
    {
     "name": "stdout",
     "output_type": "stream",
     "text": [
      "['Cedar', 'Amber', 'Oud']\n",
      "Amber\n"
     ]
    }
   ],
   "source": [
    "inventory = {\n",
    "    \"candles\": [\"Cedar\", \"Amber\", \"Oud\"],\n",
    "    \"sizes\": [\"small\", \"medium\", \"large\"]\n",
    "}\n",
    "print(inventory[\"candles\"])      # list value\n",
    "print(inventory[\"candles\"][1])   # access an item inside the list value"
   ]
  },
  {
   "cell_type": "markdown",
   "metadata": {},
   "source": [
    "### Dictionaries (Create & Access)"
   ]
  },
  {
   "cell_type": "code",
   "execution_count": 8,
   "metadata": {},
   "outputs": [
    {
     "name": "stdout",
     "output_type": "stream",
     "text": [
      "A100\n",
      "n/a\n"
     ]
    }
   ],
   "source": [
    "product = {\"sku\": \"A100\", \"price\": 29.0, \"stock\": 50}\n",
    "print(product[\"sku\"])        # access by key\n",
    "print(product.get(\"color\", \"n/a\"))  # get with default"
   ]
  },
  {
   "cell_type": "markdown",
   "metadata": {},
   "source": [
    "### Dictionaries (Add & Update)"
   ]
  },
  {
   "cell_type": "code",
   "execution_count": 9,
   "metadata": {},
   "outputs": [
    {
     "name": "stdout",
     "output_type": "stream",
     "text": [
      "{'sku': 'A100', 'price': 29.0, 'stock': 60, 'color': 'cream'}\n",
      "{'sku': 'A100', 'price': 27.5, 'stock': 60, 'color': 'cream'}\n",
      "27.5 {'sku': 'A100', 'stock': 60, 'color': 'cream'}\n"
     ]
    }
   ],
   "source": [
    "product[\"stock\"] = 60          # update existing key\n",
    "product[\"color\"] = \"cream\"     # add new key\n",
    "print(product)\n",
    "\n",
    "product.update({\"price\": 27.5}) # update via update()\n",
    "print(product)\n",
    "\n",
    "removed_price = product.pop(\"price\")  # remove key and get value\n",
    "print(removed_price, product)"
   ]
  },
  {
   "cell_type": "markdown",
   "metadata": {},
   "source": [
    "### Sets & Tuples"
   ]
  },
  {
   "cell_type": "code",
   "execution_count": 10,
   "metadata": {},
   "outputs": [
    {
     "name": "stdout",
     "output_type": "stream",
     "text": [
      "{'East', 'West'}\n",
      "True\n",
      "SLC\n",
      "SLC UT\n"
     ]
    }
   ],
   "source": [
    "# set: unique items, unordered\n",
    "regions = {\"West\", \"East\", \"West\"}\n",
    "print(regions)     # duplicates removed\n",
    "regions.add(\"Central\")\n",
    "print(\"West\" in regions)\n",
    "\n",
    "# tuple: ordered, immutable\n",
    "shipping_origin = (\"SLC\", \"UT\")\n",
    "print(shipping_origin[0])\n",
    "\n",
    "# tuple unpacking\n",
    "city, state = shipping_origin\n",
    "print(city, state)"
   ]
  }
 ],
 "metadata": {
  "kernelspec": {
   "display_name": "Python 3",
   "language": "python",
   "name": "python3"
  },
  "language_info": {
   "codemirror_mode": {
    "name": "ipython",
    "version": 3
   },
   "file_extension": ".py",
   "mimetype": "text/x-python",
   "name": "python",
   "nbconvert_exporter": "python",
   "pygments_lexer": "ipython3",
   "version": "3.10.10"
  }
 },
 "nbformat": 4,
 "nbformat_minor": 5
}
