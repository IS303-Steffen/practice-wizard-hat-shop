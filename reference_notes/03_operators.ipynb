{
 "cells": [
  {
   "cell_type": "markdown",
   "metadata": {},
   "source": [
    "### Arithmetic Operators"
   ]
  },
  {
   "cell_type": "code",
   "execution_count": 1,
   "metadata": {},
   "outputs": [
    {
     "name": "stdout",
     "output_type": "stream",
     "text": [
      "8\n",
      "6\n",
      "42\n",
      "4.0\n",
      "8\n",
      "5\n"
     ]
    }
   ],
   "source": [
    "# Addition\n",
    "print(5 + 3)\n",
    "\n",
    "# Subtraction\n",
    "print(10 - 4)\n",
    "\n",
    "# Multiplication\n",
    "print(6 * 7)\n",
    "\n",
    "# Division (float)\n",
    "print(20 / 5)\n",
    "\n",
    "# Exponentiation\n",
    "print(2 ** 3)\n",
    "\n",
    "# Floor division\n",
    "print(17 // 3)"
   ]
  },
  {
   "cell_type": "markdown",
   "metadata": {},
   "source": [
    "### Modulus (Remainder after Division)"
   ]
  },
  {
   "cell_type": "code",
   "execution_count": 2,
   "id": "741951f0",
   "metadata": {},
   "outputs": [
    {
     "name": "stdout",
     "output_type": "stream",
     "text": [
      "2\n"
     ]
    }
   ],
   "source": [
    "# Remainder after division\n",
    "print(17 % 3)   # remainder of 17 divided by 3"
   ]
  },
  {
   "cell_type": "markdown",
   "metadata": {},
   "source": [
    "### Rounding (to 2 decimal places)"
   ]
  },
  {
   "cell_type": "code",
   "execution_count": 3,
   "metadata": {},
   "outputs": [
    {
     "name": "stdout",
     "output_type": "stream",
     "text": [
      "3.14\n"
     ]
    }
   ],
   "source": [
    "# Round to 2 decimals\n",
    "print(round(3.14159, 2))   # 3.14"
   ]
  },
  {
   "cell_type": "markdown",
   "metadata": {},
   "source": [
    "### Assignment (=) vs Equality (==)"
   ]
  },
  {
   "cell_type": "code",
   "execution_count": 4,
   "metadata": {},
   "outputs": [
    {
     "name": "stdout",
     "output_type": "stream",
     "text": [
      "False\n",
      "True\n"
     ]
    }
   ],
   "source": [
    "# Assignment: sets a variable\n",
    "status = \"processing\"\n",
    "\n",
    "# Equality comparison: checks if two values are the same\n",
    "print(status == \"shipped\")     # False\n",
    "print(status == \"processing\")  # True"
   ]
  },
  {
   "cell_type": "markdown",
   "metadata": {},
   "source": [
    "### Shortcut Assignment (+=, -=)"
   ]
  },
  {
   "cell_type": "code",
   "execution_count": 5,
   "metadata": {},
   "outputs": [
    {
     "name": "stdout",
     "output_type": "stream",
     "text": [
      "125\n",
      "150\n",
      "140\n",
      "130\n"
     ]
    }
   ],
   "source": [
    "inventory = 100\n",
    "\n",
    "# += adds and assigns\n",
    "inventory += 25\n",
    "print(inventory)\n",
    "# Same as:\n",
    "inventory = inventory + 25\n",
    "print(inventory)\n",
    "\n",
    "# -= subtracts and assigns\n",
    "inventory -= 10\n",
    "print(inventory)\n",
    "# Same as:\n",
    "inventory = inventory - 10\n",
    "print(inventory)\n",
    "\n",
    "# You can also do this with * and /"
   ]
  },
  {
   "cell_type": "markdown",
   "metadata": {},
   "source": [
    "### Comparison Operators"
   ]
  },
  {
   "cell_type": "code",
   "execution_count": 6,
   "metadata": {},
   "outputs": [
    {
     "name": "stdout",
     "output_type": "stream",
     "text": [
      "False\n",
      "True\n",
      "False\n",
      "False\n",
      "True\n",
      "True\n"
     ]
    }
   ],
   "source": [
    "# ==, !=, >, >=, <, <=\n",
    "x = 10\n",
    "y = 20\n",
    "\n",
    "print(x == y)\n",
    "print(x != y)\n",
    "print(x > y)\n",
    "print(x >= y)\n",
    "print(x < y)\n",
    "print(x <= y)\n",
    "\n",
    "# You can use comparisons with if statements (next chapter)\n",
    "# Example:\n",
    "# if x < y:\n",
    "#     print(\"x is smaller\")"
   ]
  }
 ],
 "metadata": {
  "kernelspec": {
   "display_name": "Python 3",
   "language": "python",
   "name": "python3"
  },
  "language_info": {
   "codemirror_mode": {
    "name": "ipython",
    "version": 3
   },
   "file_extension": ".py",
   "mimetype": "text/x-python",
   "name": "python",
   "nbconvert_exporter": "python",
   "pygments_lexer": "ipython3",
   "version": "3.12.5"
  }
 },
 "nbformat": 4,
 "nbformat_minor": 5
}
