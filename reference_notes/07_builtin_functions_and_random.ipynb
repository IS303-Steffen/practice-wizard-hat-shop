{
 "cells": [
  {
   "cell_type": "markdown",
   "id": "1977777a",
   "metadata": {},
   "source": [
    "### Random (choice, randint, randrange)"
   ]
  },
  {
   "cell_type": "code",
   "execution_count": 1,
   "id": "80c21f8d",
   "metadata": {},
   "outputs": [
    {
     "name": "stdout",
     "output_type": "stream",
     "text": [
      "C\n",
      "2\n",
      "3\n"
     ]
    }
   ],
   "source": [
    "import random\n",
    "options = [\"A\", \"B\", \"C\"]\n",
    "print(random.choice(options))    # pick one element from a list\n",
    "print(random.randint(1, 6))      # random int between 1 and 6 (inclusive)\n",
    "print(random.randrange(0, 10))   # random int from 0..9"
   ]
  },
  {
   "cell_type": "markdown",
   "metadata": {},
   "source": [
    "### Number Helpers (sum, min, max, round)"
   ]
  },
  {
   "cell_type": "code",
   "execution_count": 2,
   "metadata": {},
   "outputs": [
    {
     "name": "stdout",
     "output_type": "stream",
     "text": [
      "74\n",
      "4\n",
      "50\n",
      "3.14\n"
     ]
    }
   ],
   "source": [
    "values = [10, 4, 50, 10]\n",
    "print(sum(values))          # sum of all numbers\n",
    "print(min(values))          # smallest number\n",
    "print(max(values))          # largest number\n",
    "print(round(3.14159, 2))    # round to 2 decimal places"
   ]
  },
  {
   "cell_type": "markdown",
   "metadata": {},
   "source": [
    "### String Basics (len)"
   ]
  },
  {
   "cell_type": "code",
   "execution_count": 3,
   "metadata": {},
   "outputs": [
    {
     "name": "stdout",
     "output_type": "stream",
     "text": [
      "21\n"
     ]
    }
   ],
   "source": [
    "s = \"   Cedar Amber Oud   \"\n",
    "print(len(s))               # number of characters (including spaces)"
   ]
  },
  {
   "cell_type": "markdown",
   "metadata": {},
   "source": [
    "### String Methods (case)"
   ]
  },
  {
   "cell_type": "code",
   "execution_count": 4,
   "metadata": {},
   "outputs": [
    {
     "name": "stdout",
     "output_type": "stream",
     "text": [
      "VANILLA BEAN\n",
      "vanilla bean\n",
      "Cedar Amber\n",
      "Eucalyptus\n"
     ]
    }
   ],
   "source": [
    "txt = \"vanilla bean\"\n",
    "print(txt.upper())          # all caps\n",
    "print(txt.lower())          # all lowercase\n",
    "print(\"cedar amber\".title())    # capitalize first letter of each word\n",
    "print(\"eucalyptus\".capitalize()) # capitalize first letter of the string"
   ]
  },
  {
   "cell_type": "markdown",
   "metadata": {},
   "source": [
    "### String Methods (strip, split, replace)"
   ]
  },
  {
   "cell_type": "code",
   "execution_count": 5,
   "metadata": {},
   "outputs": [
    {
     "name": "stdout",
     "output_type": "stream",
     "text": [
      "hello\n",
      "['a', 'b', 'c']\n",
      "2025/10/02\n"
     ]
    }
   ],
   "source": [
    "print(\"  hello  \".strip())        # remove leading/trailing whitespace\n",
    "print(\"a,b,c\".split(\",\"))        # split into list by separator\n",
    "print(\"2025-10-02\".replace(\"-\",\"/\"))  # replace all matches"
   ]
  },
  {
   "cell_type": "markdown",
   "metadata": {},
   "source": [
    "### String Methods (find, count)"
   ]
  },
  {
   "cell_type": "code",
   "execution_count": 6,
   "metadata": {},
   "outputs": [
    {
     "name": "stdout",
     "output_type": "stream",
     "text": [
      "2\n",
      "2\n"
     ]
    }
   ],
   "source": [
    "print(\"banana\".find(\"na\"))   # first index of substring (or -1)\n",
    "print(\"banana\".count(\"na\"))  # number of occurrences"
   ]
  },
  {
   "cell_type": "markdown",
   "metadata": {},
   "source": [
    "### f-Strings with Numbers (commas, decimals, percents)"
   ]
  },
  {
   "cell_type": "code",
   "execution_count": 7,
   "id": "bd52cad9",
   "metadata": {},
   "outputs": [
    {
     "name": "stdout",
     "output_type": "stream",
     "text": [
      "1,234,567.8912\n",
      "1234567.89\n",
      "1,234,567.89\n",
      "85.32%\n"
     ]
    }
   ],
   "source": [
    "n = 1234567.8912\n",
    "print(f\"{n:,}\")        # add thousands separators\n",
    "print(f\"{n:.2f}\")      # round to 2 decimals\n",
    "print(f\"{n:,.2f}\")     # both commas and 2 decimals\n",
    "rate = 0.8532\n",
    "print(f\"{rate:.2%}\")   # percent with 2 decimals (e.g., 85.32%)"
   ]
  },
  {
   "cell_type": "markdown",
   "metadata": {},
   "source": [
    "### Dates & Times (datetime)"
   ]
  },
  {
   "cell_type": "code",
   "execution_count": 8,
   "metadata": {},
   "outputs": [
    {
     "name": "stdout",
     "output_type": "stream",
     "text": [
      "2025-10-02 23:29:28.456606\n",
      "2025\n",
      "10\n",
      "2\n",
      "2025-10-02\n",
      "2025-10-09\n"
     ]
    }
   ],
   "source": [
    "from datetime import datetime, date, timedelta\n",
    "now = datetime.now()\n",
    "print(now)                  # current date/time\n",
    "print(now.year)             # year part\n",
    "print(now.month)            # month part\n",
    "print(now.day)              # day part\n",
    "today = date.today()\n",
    "print(today.isoformat())    # YYYY-MM-DD\n",
    "print((now + timedelta(days=7)).date())  # 7 days from now"
   ]
  },
  {
   "cell_type": "markdown",
   "metadata": {},
   "source": [
    "### Dates & Times (format & parse)"
   ]
  },
  {
   "cell_type": "code",
   "execution_count": 9,
   "metadata": {},
   "outputs": [
    {
     "name": "stdout",
     "output_type": "stream",
     "text": [
      "2025-10-02 14:30\n",
      "2025-10-02\n"
     ]
    }
   ],
   "source": [
    "from datetime import datetime\n",
    "dt = datetime(2025, 10, 2, 14, 30)\n",
    "print(dt.strftime(\"%Y-%m-%d %H:%M\"))   # format datetime -> string\n",
    "print(datetime.strptime(\"2025-10-02\", \"%Y-%m-%d\").date())  # parse string -> date"
   ]
  }
 ],
 "metadata": {
  "kernelspec": {
   "display_name": "Python 3",
   "language": "python",
   "name": "python3"
  },
  "language_info": {
   "codemirror_mode": {
    "name": "ipython",
    "version": 3
   },
   "file_extension": ".py",
   "mimetype": "text/x-python",
   "name": "python",
   "nbconvert_exporter": "python",
   "pygments_lexer": "ipython3",
   "version": "3.12.5"
  }
 },
 "nbformat": 4,
 "nbformat_minor": 5
}
