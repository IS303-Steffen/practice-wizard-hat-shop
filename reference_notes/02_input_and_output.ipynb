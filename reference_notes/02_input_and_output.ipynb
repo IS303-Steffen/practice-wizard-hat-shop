{
 "cells": [
  {
   "cell_type": "markdown",
   "metadata": {},
   "source": [
    "### Print Function"
   ]
  },
  {
   "cell_type": "code",
   "execution_count": 1,
   "metadata": {},
   "outputs": [
    {
     "name": "stdout",
     "output_type": "stream",
     "text": [
      "Welcome to the store!\n",
      "Order: 3 candles\n",
      "A - B - C END\n"
     ]
    }
   ],
   "source": [
    "# Basic usage\n",
    "print(\"Welcome to the store!\")\n",
    "\n",
    "# Printing multiple items\n",
    "print(\"Order:\", 3, \"candles\")\n",
    "\n",
    "# Using sep and end arguments\n",
    "print(\"A\", \"B\", \"C\", sep=\" - \", end=\" END\\n\")"
   ]
  },
  {
   "cell_type": "markdown",
   "metadata": {},
   "source": [
    "### Input Function"
   ]
  },
  {
   "cell_type": "code",
   "execution_count": 2,
   "metadata": {},
   "outputs": [
    {
     "name": "stdout",
     "output_type": "stream",
     "text": [
      "Hello, Professor Steffen\n",
      "You ordered 5 candles.\n"
     ]
    }
   ],
   "source": [
    "# Ask for user input (always returns a string)\n",
    "name = input(\"Enter your name: \")\n",
    "print(\"Hello,\", name)\n",
    "\n",
    "# Convert input to int or float if needed\n",
    "quantity = int(input(\"How many candles would you like? \"))\n",
    "print(\"You ordered\", quantity, \"candles.\")"
   ]
  },
  {
   "cell_type": "markdown",
   "metadata": {},
   "source": [
    "### Escape Characters"
   ]
  },
  {
   "cell_type": "code",
   "execution_count": 3,
   "metadata": {},
   "outputs": [
    {
     "name": "stdout",
     "output_type": "stream",
     "text": [
      "Line 1\n",
      "Line 2\n",
      "Product\tPrice\n",
      "Candle\t$19.99\n",
      "It's a great day!\n",
      "She said, \"Hello!\"\n",
      "C:\\Users\\student\n"
     ]
    }
   ],
   "source": [
    "# Newline (\\n)\n",
    "print(\"Line 1\\nLine 2\")\n",
    "\n",
    "# Tab (\\t)\n",
    "print(\"Product\\tPrice\")\n",
    "print(\"Candle\\t$19.99\")\n",
    "\n",
    "# Quotes inside strings\n",
    "print('It\\'s a great day!')\n",
    "print(\"She said, \\\"Hello!\\\"\")\n",
    "\n",
    "# Backslash itself (\\\\)\n",
    "print(\"C:\\\\Users\\\\student\")"
   ]
  },
  {
   "cell_type": "markdown",
   "metadata": {},
   "source": [
    "### Concatenation"
   ]
  },
  {
   "cell_type": "code",
   "execution_count": 4,
   "metadata": {},
   "outputs": [
    {
     "name": "stdout",
     "output_type": "stream",
     "text": [
      "Scented Candle\n",
      "Alex ordered 2 candles.\n"
     ]
    }
   ],
   "source": [
    "# Using + operator\n",
    "first = \"Scented\"\n",
    "second = \"Candle\"\n",
    "product = first + \" \" + second\n",
    "print(product)\n",
    "\n",
    "# Using f-strings\n",
    "customer = \"Alex\"\n",
    "items = 2\n",
    "print(f\"{customer} ordered {items} candles.\")"
   ]
  }
 ],
 "metadata": {
  "kernelspec": {
   "display_name": "Python 3",
   "language": "python",
   "name": "python3"
  },
  "language_info": {
   "codemirror_mode": {
    "name": "ipython",
    "version": 3
   },
   "file_extension": ".py",
   "mimetype": "text/x-python",
   "name": "python",
   "nbconvert_exporter": "python",
   "pygments_lexer": "ipython3",
   "version": "3.12.5"
  }
 },
 "nbformat": 4,
 "nbformat_minor": 5
}
