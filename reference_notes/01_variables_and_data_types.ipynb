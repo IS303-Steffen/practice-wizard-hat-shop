{
 "cells": [
  {
   "cell_type": "markdown",
   "metadata": {},
   "source": [
    "### Comments"
   ]
  },
  {
   "cell_type": "code",
   "execution_count": null,
   "id": "27db4d1c",
   "metadata": {},
   "outputs": [],
   "source": [
    "# Single-line comment: describe what your code does\n",
    "# Calculate total order amount\n",
    "\n",
    "'''\n",
    "Multi-line comment (often used as a quick note block)\n",
    "Use for short annotations while prototyping\n",
    "'''"
   ]
  },
  {
   "cell_type": "markdown",
   "id": "a24be80b",
   "metadata": {},
   "source": [
    "### Data Types"
   ]
  },
  {
   "cell_type": "code",
   "execution_count": null,
   "id": "4505d171",
   "metadata": {},
   "outputs": [],
   "source": [
    "# int (integer)\n",
    "units_in_stock = 42\n",
    "type(units_in_stock)\n",
    "\n",
    "# float (decimal number)\n",
    "unit_price = 19.99\n",
    "type(unit_price)\n",
    "\n",
    "# str (text)\n",
    "product_name = \"Cedar Candle\"\n",
    "type(product_name)\n",
    "\n",
    "# bool (True/False)\n",
    "is_active = True\n",
    "type(is_active)\n",
    "\n",
    "# NoneType (no value)\n",
    "discount_code = None\n",
    "type(discount_code)\n",
    "\n",
    "# list (ordered, mutable)\n",
    "top_sellers = [\"No.1 Bergamot\", \"No.7 Oud\", \"No.12 Amber\"]\n",
    "type(top_sellers)\n",
    "\n",
    "# tuple (ordered, immutable)\n",
    "ship_from = (\"SLC\", \"UT\")\n",
    "type(ship_from)\n",
    "\n",
    "# dict (key-value pairs)\n",
    "product = {\"sku\": \"A100\", \"price\": 29.0, \"inventory\": 120}\n",
    "type(product)\n"
   ]
  }
 ],
 "metadata": {
  "kernelspec": {
   "display_name": "Python 3",
   "language": "python",
   "name": "python3"
  },
  "language_info": {
   "codemirror_mode": {
    "name": "ipython",
    "version": 3
   },
   "file_extension": ".py",
   "mimetype": "text/x-python",
   "name": "python",
   "nbconvert_exporter": "python",
   "pygments_lexer": "ipython3",
   "version": "3.12.5"
  }
 },
 "nbformat": 4,
 "nbformat_minor": 5
}
