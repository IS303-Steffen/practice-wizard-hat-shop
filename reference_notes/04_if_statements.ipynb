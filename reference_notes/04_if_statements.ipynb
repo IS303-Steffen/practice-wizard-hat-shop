{
 "cells": [
  {
   "cell_type": "markdown",
   "metadata": {},
   "source": [
    "### if"
   ]
  },
  {
   "cell_type": "code",
   "execution_count": 1,
   "metadata": {},
   "outputs": [
    {
     "name": "stdout",
     "output_type": "stream",
     "text": [
      "x is greater than 5\n"
     ]
    }
   ],
   "source": [
    "x = 10\n",
    "if x > 5:\n",
    "    print(\"x is greater than 5\")"
   ]
  },
  {
   "cell_type": "markdown",
   "metadata": {},
   "source": [
    "### if + else"
   ]
  },
  {
   "cell_type": "code",
   "execution_count": 2,
   "metadata": {},
   "outputs": [
    {
     "name": "stdout",
     "output_type": "stream",
     "text": [
      "Out of stock\n"
     ]
    }
   ],
   "source": [
    "stock = 0\n",
    "if stock > 0:\n",
    "    print(\"In stock\")\n",
    "else:\n",
    "    print(\"Out of stock\")"
   ]
  },
  {
   "cell_type": "markdown",
   "metadata": {},
   "source": [
    "### if + elif"
   ]
  },
  {
   "cell_type": "code",
   "execution_count": 11,
   "metadata": {},
   "outputs": [
    {
     "name": "stdout",
     "output_type": "stream",
     "text": [
      "a lot\n"
     ]
    }
   ],
   "source": [
    "qty = 5\n",
    "if qty == 1:\n",
    "    print(\"Single item\")\n",
    "elif qty == 2:\n",
    "    print(\"Pair\")\n",
    "elif qty > 2:\n",
    "    print(\"a lot\")\n"
   ]
  },
  {
   "cell_type": "markdown",
   "metadata": {},
   "source": [
    "### if / elif / else (all together)"
   ]
  },
  {
   "cell_type": "code",
   "execution_count": 4,
   "metadata": {},
   "outputs": [
    {
     "name": "stdout",
     "output_type": "stream",
     "text": [
      "B\n"
     ]
    }
   ],
   "source": [
    "score = 87\n",
    "if score >= 90:\n",
    "    print(\"A\")\n",
    "elif score >= 80:\n",
    "    print(\"B\")\n",
    "else:\n",
    "    print(\"Below B\")"
   ]
  },
  {
   "cell_type": "markdown",
   "metadata": {},
   "source": [
    "### and (logical AND)"
   ]
  },
  {
   "cell_type": "code",
   "execution_count": 5,
   "metadata": {},
   "outputs": [
    {
     "name": "stdout",
     "output_type": "stream",
     "text": [
      "Member discount applied\n"
     ]
    }
   ],
   "source": [
    "total = 120\n",
    "member = True\n",
    "if total >= 100 and member:\n",
    "    print(\"Member discount applied\")"
   ]
  },
  {
   "cell_type": "markdown",
   "metadata": {},
   "source": [
    "### or (logical OR)"
   ]
  },
  {
   "cell_type": "code",
   "execution_count": 6,
   "metadata": {},
   "outputs": [
    {
     "name": "stdout",
     "output_type": "stream",
     "text": [
      "Promotion used\n"
     ]
    }
   ],
   "source": [
    "coupon = \"SAVE10\"\n",
    "gift_card = 0\n",
    "if coupon == \"SAVE10\" or gift_card > 0:\n",
    "    print(\"Promotion used\")"
   ]
  },
  {
   "cell_type": "markdown",
   "metadata": {},
   "source": [
    "### not (logical NOT)"
   ]
  },
  {
   "cell_type": "code",
   "execution_count": 7,
   "metadata": {},
   "outputs": [
    {
     "name": "stdout",
     "output_type": "stream",
     "text": [
      "Account is inactive\n"
     ]
    }
   ],
   "source": [
    "is_active = False\n",
    "if not is_active:\n",
    "    print(\"Account is inactive\")"
   ]
  },
  {
   "cell_type": "markdown",
   "metadata": {},
   "source": [
    "### in (membership)"
   ]
  },
  {
   "cell_type": "code",
   "execution_count": 8,
   "metadata": {},
   "outputs": [
    {
     "name": "stdout",
     "output_type": "stream",
     "text": [
      "Item is a top seller\n"
     ]
    }
   ],
   "source": [
    "top_sellers = [\"Cedar\", \"Amber\", \"Oud\"]\n",
    "item = \"Amber\"\n",
    "if item in top_sellers:\n",
    "    print(\"Item is a top seller\")"
   ]
  },
  {
   "cell_type": "markdown",
   "metadata": {},
   "source": [
    "### Combining conditions"
   ]
  },
  {
   "cell_type": "code",
   "execution_count": 9,
   "metadata": {},
   "outputs": [
    {
     "name": "stdout",
     "output_type": "stream",
     "text": [
      "You get a discount\n"
     ]
    }
   ],
   "source": [
    "total = 75\n",
    "member = False\n",
    "coupon = \"SAVE10\"\n",
    "if (total >= 100 and member) or (coupon == \"SAVE10\"):\n",
    "    print(\"You get a discount\")"
   ]
  },
  {
   "cell_type": "markdown",
   "metadata": {},
   "source": [
    "### Nested ifs"
   ]
  },
  {
   "cell_type": "code",
   "execution_count": 10,
   "metadata": {},
   "outputs": [
    {
     "name": "stdout",
     "output_type": "stream",
     "text": [
      "Ship from Salt Lake City\n"
     ]
    }
   ],
   "source": [
    "country = \"US\"\n",
    "state = \"UT\"\n",
    "if country == \"US\":\n",
    "    if state == \"UT\":\n",
    "        print(\"Ship from Salt Lake City\")"
   ]
  }
 ],
 "metadata": {
  "kernelspec": {
   "display_name": "Python 3",
   "language": "python",
   "name": "python3"
  },
  "language_info": {
   "codemirror_mode": {
    "name": "ipython",
    "version": 3
   },
   "file_extension": ".py",
   "mimetype": "text/x-python",
   "name": "python",
   "nbconvert_exporter": "python",
   "pygments_lexer": "ipython3",
   "version": "3.12.5"
  }
 },
 "nbformat": 4,
 "nbformat_minor": 5
}
